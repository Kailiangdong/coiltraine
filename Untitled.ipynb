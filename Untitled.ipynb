{
 "cells": [
  {
   "cell_type": "code",
   "execution_count": 1,
   "metadata": {},
   "outputs": [],
   "source": [
    "import numpy as np\n",
    "tmp1 = np.random.rand(12, 4)"
   ]
  },
  {
   "cell_type": "code",
   "execution_count": 2,
   "metadata": {},
   "outputs": [
    {
     "data": {
      "text/plain": [
       "array([[0.47884316, 0.37130411, 0.19745624, 0.51233655],\n",
       "       [0.58785346, 0.92871825, 0.28141007, 0.49850247],\n",
       "       [0.20700901, 0.60120794, 0.33048695, 0.43642335],\n",
       "       [0.856241  , 0.90251113, 0.15173918, 0.81927569],\n",
       "       [0.54812796, 0.32464408, 0.48707149, 0.12175754],\n",
       "       [0.49085731, 0.3993733 , 0.84323896, 0.42596854],\n",
       "       [0.84060107, 0.00309691, 0.97431046, 0.46851945],\n",
       "       [0.33457235, 0.53209067, 0.43699423, 0.65551827],\n",
       "       [0.73897113, 0.21866388, 0.71256227, 0.55031703],\n",
       "       [0.28951774, 0.48165969, 0.74678335, 0.81857312],\n",
       "       [0.16013752, 0.55970637, 0.39352686, 0.78912305],\n",
       "       [0.19714167, 0.55960962, 0.15116578, 0.10962052]])"
      ]
     },
     "execution_count": 2,
     "metadata": {},
     "output_type": "execute_result"
    }
   ],
   "source": [
    "tmp1"
   ]
  },
  {
   "cell_type": "code",
   "execution_count": 12,
   "metadata": {},
   "outputs": [
    {
     "data": {
      "text/plain": [
       "array([0.37130411, 0.92871825, 0.60120794, 0.90251113, 0.32464408,\n",
       "       0.3993733 , 0.00309691, 0.53209067, 0.21866388, 0.48165969,\n",
       "       0.55970637, 0.55960962])"
      ]
     },
     "execution_count": 12,
     "metadata": {},
     "output_type": "execute_result"
    }
   ],
   "source": [
    "tmp1[:,1]"
   ]
  },
  {
   "cell_type": "code",
   "execution_count": 10,
   "metadata": {},
   "outputs": [
    {
     "data": {
      "text/plain": [
       "(4,)"
      ]
     },
     "execution_count": 10,
     "metadata": {},
     "output_type": "execute_result"
    }
   ],
   "source": [
    "w1= np.asarray([1,2,3,4])\n",
    "w1.shape"
   ]
  },
  {
   "cell_type": "code",
   "execution_count": 11,
   "metadata": {},
   "outputs": [
    {
     "ename": "TypeError",
     "evalue": "Required argument 'b' (pos 2) not found",
     "output_type": "error",
     "traceback": [
      "\u001b[0;31m---------------------------------------------------------------------------\u001b[0m",
      "\u001b[0;31mTypeError\u001b[0m                                 Traceback (most recent call last)",
      "\u001b[0;32m<ipython-input-11-fa41c07cfbef>\u001b[0m in \u001b[0;36m<module>\u001b[0;34m()\u001b[0m\n\u001b[0;32m----> 1\u001b[0;31m \u001b[0mnp\u001b[0m\u001b[0;34m.\u001b[0m\u001b[0mdot\u001b[0m\u001b[0;34m(\u001b[0m\u001b[0mtmp1\u001b[0m\u001b[0;34m*\u001b[0m\u001b[0mw1\u001b[0m\u001b[0;34m)\u001b[0m\u001b[0;34m\u001b[0m\u001b[0m\n\u001b[0m",
      "\u001b[0;31mTypeError\u001b[0m: Required argument 'b' (pos 2) not found"
     ]
    }
   ],
   "source": [
    "np.dot(tmp1*w1)"
   ]
  }
 ],
 "metadata": {
  "kernelspec": {
   "display_name": "Python 3",
   "language": "python",
   "name": "python3"
  },
  "language_info": {
   "codemirror_mode": {
    "name": "ipython",
    "version": 3
   },
   "file_extension": ".py",
   "mimetype": "text/x-python",
   "name": "python",
   "nbconvert_exporter": "python",
   "pygments_lexer": "ipython3",
   "version": "3.5.6"
  }
 },
 "nbformat": 4,
 "nbformat_minor": 2
}
